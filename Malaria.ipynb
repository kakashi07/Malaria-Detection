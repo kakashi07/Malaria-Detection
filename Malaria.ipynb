{
 "cells": [
  {
   "cell_type": "code",
   "execution_count": 1,
   "id": "cf484f7a",
   "metadata": {},
   "outputs": [],
   "source": [
    "import os\n",
    "import pandas as pd\n",
    "import numpy as np\n",
    "from matplotlib import image\n",
    "import matplotlib.pyplot as plt\n",
    "from skimage.transform import resize\n",
    "from skimage.io import imread\n",
    "from skimage.color import rgb2gray\n",
    "from sklearn.model_selection import GridSearchCV\n",
    "from sklearn.model_selection import train_test_split"
   ]
  },
  {
   "cell_type": "code",
   "execution_count": 2,
   "id": "a971fc10",
   "metadata": {},
   "outputs": [],
   "source": [
    "positive_class_path = 'malaria/uab curated/1'\n",
    "negative_class_path = 'malaria/uab curated/0'\n",
    "\n"
   ]
  },
  {
   "cell_type": "markdown",
   "id": "504401b4",
   "metadata": {},
   "source": [
    "- Need to see how results differ, when I choose to do greyscale conversion\n",
    "- Will need to change this resize parameter"
   ]
  },
  {
   "cell_type": "code",
   "execution_count": 98,
   "id": "b27e5b28",
   "metadata": {},
   "outputs": [],
   "source": [
    "image_array = []\n",
    "\n",
    "def file_append(class_path):    \n",
    "    curr_path = os.path.join(os.getcwd(),class_path)\n",
    "    cnt = 0\n",
    "    file_list = [k for k in os.listdir(curr_path) if '.png' in k]\n",
    "    for x in file_list:\n",
    "        \n",
    "        img_path = os.path.join(curr_path,x)\n",
    "\n",
    "        img = imread(img_path)\n",
    "#         img = rgb2gray(img)\n",
    "        img = resize(img,(50,50,3))     ## Will need to change this resize parameter\n",
    "        img = img.flatten()\n",
    "        image_array.append(img)\n",
    "        \n",
    "    return image_array\n",
    "    \n",
    "\n",
    "pos_imgs = file_append(positive_class_path)\n",
    "positive_df  = pd.DataFrame(pos_imgs)\n",
    "positive_df['y'] = 1\n",
    "\n",
    "neg_imgs = file_append(negative_class_path)\n",
    "neg_df  = pd.DataFrame(neg_imgs)\n",
    "neg_df['y'] = 0\n",
    "\n",
    "# plt.imshow(np.reshape(pos_imgs[2],(40,40,3)))\n",
    "df = pd.concat([positive_df,neg_df],ignore_index=True)"
   ]
  },
  {
   "cell_type": "markdown",
   "id": "45d21dd9",
   "metadata": {},
   "source": [
    "## Splitting entire dataset into train and test sets"
   ]
  },
  {
   "cell_type": "code",
   "execution_count": 100,
   "id": "ba9902db",
   "metadata": {},
   "outputs": [],
   "source": [
    "X,y = df[df.columns[:-1]],df['y']\n",
    "\n",
    "X_train,X_test,y_train,y_test = train_test_split(X,y,train_size=0.7,random_state=121)\n"
   ]
  },
  {
   "cell_type": "markdown",
   "id": "44cfb194",
   "metadata": {},
   "source": [
    "### Dimensionality reduction"
   ]
  },
  {
   "cell_type": "code",
   "execution_count": 101,
   "id": "70f48e0b",
   "metadata": {},
   "outputs": [],
   "source": [
    "from sklearn.decomposition import PCA\n",
    "from sklearn.preprocessing import StandardScaler\n",
    "\n"
   ]
  },
  {
   "cell_type": "code",
   "execution_count": 102,
   "id": "0521721c",
   "metadata": {},
   "outputs": [],
   "source": [
    "scaler = StandardScaler()\n",
    "image_array = scaler.fit_transform(X_train)"
   ]
  },
  {
   "cell_type": "code",
   "execution_count": 103,
   "id": "478df31b",
   "metadata": {},
   "outputs": [],
   "source": [
    "pca = PCA(n_components=0.80)\n",
    "pca_data = pca.fit_transform(image_array)\n",
    "exp_var = pca.explained_variance_ratio_"
   ]
  },
  {
   "cell_type": "code",
   "execution_count": 104,
   "id": "956ab1f1",
   "metadata": {},
   "outputs": [
    {
     "data": {
      "text/plain": [
       "(2519, 59)"
      ]
     },
     "execution_count": 104,
     "metadata": {},
     "output_type": "execute_result"
    }
   ],
   "source": [
    "pca_data.shape"
   ]
  },
  {
   "cell_type": "code",
   "execution_count": 105,
   "id": "23983dc3",
   "metadata": {},
   "outputs": [],
   "source": [
    "PC_labels = ['PC_'+ str(x) for x in range(1,60)]"
   ]
  },
  {
   "cell_type": "code",
   "execution_count": 106,
   "id": "14a2d894",
   "metadata": {},
   "outputs": [
    {
     "data": {
      "text/plain": [
       "0.8014309991955885"
      ]
     },
     "execution_count": 106,
     "metadata": {},
     "output_type": "execute_result"
    },
    {
     "data": {
      "image/png": "[encoded data removed]",
      "text/plain": [
       "<Figure size 432x288 with 1 Axes>"
      ]
     },
     "metadata": {
      "needs_background": "light"
     },
     "output_type": "display_data"
    }
   ],
   "source": [
    "plt.bar(PC_labels,exp_var[:60])\n",
    "sum(exp_var[:60])"
   ]
  },
  {
   "cell_type": "code",
   "execution_count": 107,
   "id": "f1d3eef0",
   "metadata": {},
   "outputs": [
    {
     "data": {
      "text/plain": [
       "(2519, 59)"
      ]
     },
     "execution_count": 107,
     "metadata": {},
     "output_type": "execute_result"
    }
   ],
   "source": [
    "pca_data.shape"
   ]
  },
  {
   "cell_type": "markdown",
   "id": "387a003a",
   "metadata": {},
   "source": [
    "## SVM Modelling"
   ]
  },
  {
   "cell_type": "code",
   "execution_count": 108,
   "id": "2a53027b",
   "metadata": {},
   "outputs": [],
   "source": [
    "from sklearn.svm import SVC\n",
    "from sklearn.metrics import accuracy_score"
   ]
  },
  {
   "cell_type": "code",
   "execution_count": 109,
   "id": "c6c67bbf",
   "metadata": {},
   "outputs": [],
   "source": [
    "X_test_sc = scaler.transform(X_test)\n",
    "X_test_new = pca.transform(X_test_sc)"
   ]
  },
  {
   "cell_type": "code",
   "execution_count": 110,
   "id": "c7351c3b",
   "metadata": {},
   "outputs": [
    {
     "data": {
      "text/plain": [
       "0.6925925925925925"
      ]
     },
     "execution_count": 110,
     "metadata": {},
     "output_type": "execute_result"
    }
   ],
   "source": [
    "model = SVC(C=0.1,kernel='sigmoid')\n",
    "model.fit(pca_data,y_train)\n",
    "\n",
    "accuracy_score(y_test,model.predict(X_test_new))\n"
   ]
  },
  {
   "cell_type": "code",
   "execution_count": 81,
   "id": "77212e3b",
   "metadata": {},
   "outputs": [
    {
     "data": {
      "text/plain": [
       "0.7041666666666667"
      ]
     },
     "execution_count": 81,
     "metadata": {},
     "output_type": "execute_result"
    }
   ],
   "source": [
    "# print(model.score(pca_data,y_train))\n"
   ]
  },
  {
   "cell_type": "code",
   "execution_count": 16,
   "id": "25ca2b63",
   "metadata": {},
   "outputs": [
    {
     "data": {
      "text/plain": [
       "array([ 0.05      ,  0.57368421,  1.09736842,  1.62105263,  2.14473684,\n",
       "        2.66842105,  3.19210526,  3.71578947,  4.23947368,  4.76315789,\n",
       "        5.28684211,  5.81052632,  6.33421053,  6.85789474,  7.38157895,\n",
       "        7.90526316,  8.42894737,  8.95263158,  9.47631579, 10.        ])"
      ]
     },
     "execution_count": 16,
     "metadata": {},
     "output_type": "execute_result"
    }
   ],
   "source": [
    "np.linspace(0.05,10,20)"
   ]
  },
  {
   "cell_type": "markdown",
   "id": "4c4ff3c7",
   "metadata": {},
   "source": [
    "## SVM modelling with grid search CV"
   ]
  },
  {
   "cell_type": "code",
   "execution_count": 111,
   "id": "c4492010",
   "metadata": {},
   "outputs": [],
   "source": [
    "# parameters = {'kernel':('linear', 'poly', 'rbf', 'sigmoid'), 'C':[0.01,0.1,0.5,1]}\n",
    "# grid_svc = SVC()\n",
    "# clf = GridSearchCV(grid_svc, parameters,verbose=2,n_jobs=-1)\n",
    "\n",
    "\n",
    "parameters = {'kernel':['poly'], 'C':[0.01,0.05, 0.1,0.5,1,10]}\n",
    "grid_svc = SVC()\n",
    "clf = GridSearchCV(grid_svc, parameters,verbose=2,n_jobs=-1)\n",
    "\n"
   ]
  },
  {
   "cell_type": "code",
   "execution_count": 112,
   "id": "ea052a69",
   "metadata": {},
   "outputs": [
    {
     "name": "stdout",
     "output_type": "stream",
     "text": [
      "Fitting 5 folds for each of 6 candidates, totalling 30 fits\n"
     ]
    },
    {
     "data": {
      "text/plain": [
       "GridSearchCV(estimator=SVC(), n_jobs=-1,\n",
       "             param_grid={'C': [0.01, 0.05, 0.1, 0.5, 1, 10],\n",
       "                         'kernel': ['poly']},\n",
       "             verbose=2)"
      ]
     },
     "execution_count": 112,
     "metadata": {},
     "output_type": "execute_result"
    }
   ],
   "source": [
    "clf.fit(pca_data, y_train)"
   ]
  },
  {
   "cell_type": "code",
   "execution_count": 114,
   "id": "50279888",
   "metadata": {},
   "outputs": [
    {
     "data": {
      "text/plain": [
       "0.7169514658083246"
      ]
     },
     "execution_count": 114,
     "metadata": {},
     "output_type": "execute_result"
    }
   ],
   "source": [
    "clf.best_score_"
   ]
  },
  {
   "cell_type": "code",
   "execution_count": 28,
   "id": "864a9468",
   "metadata": {},
   "outputs": [
    {
     "data": {
      "text/plain": [
       "SVC(C=0.01, kernel='poly')"
      ]
     },
     "execution_count": 28,
     "metadata": {},
     "output_type": "execute_result"
    }
   ],
   "source": [
    "# import pickle\n",
    "# filename = 'finalized_model.sav'\n",
    "# pickle.dump(model, open(filename, 'wb'))\n",
    "\n",
    "# # some time later...\n",
    "\n",
    "# # load the model from disk\n",
    "# loaded_model = pickle.load(open(filename, 'rb'))\n",
    "# result = loaded_model.score(X_test, Y_test)\n",
    "# print(result)\n",
    "\n",
    "\n",
    "clf.best_estimator_"
   ]
  },
  {
   "cell_type": "code",
   "execution_count": 30,
   "id": "250b5cc4",
   "metadata": {},
   "outputs": [
    {
     "data": {
      "text/plain": [
       "0.7169514658083246"
      ]
     },
     "execution_count": 30,
     "metadata": {},
     "output_type": "execute_result"
    }
   ],
   "source": [
    "clf.best_score_"
   ]
  },
  {
   "cell_type": "code",
   "execution_count": null,
   "id": "37c3b1f9",
   "metadata": {},
   "outputs": [],
   "source": []
  }
 ],
 "metadata": {
  "kernelspec": {
   "display_name": "Python 3 (ipykernel)",
   "language": "python",
   "name": "python3"
  },
  "language_info": {
   "codemirror_mode": {
    "name": "ipython",
    "version": 3
   },
   "file_extension": ".py",
   "mimetype": "text/x-python",
   "name": "python",
   "nbconvert_exporter": "python",
   "pygments_lexer": "ipython3",
   "version": "3.9.12"
  }
 },
 "nbformat": 4,
 "nbformat_minor": 5
}

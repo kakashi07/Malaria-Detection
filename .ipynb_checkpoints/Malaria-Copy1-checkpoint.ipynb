{
 "cells": [
  {
   "cell_type": "code",
   "execution_count": 10,
   "id": "cf484f7a",
   "metadata": {},
   "outputs": [],
   "source": [
    "import os\n",
    "import pandas as pd\n",
    "import numpy as np\n",
    "from matplotlib import image\n",
    "import matplotlib.pyplot as plt\n",
    "from skimage.transform import resize\n",
    "from skimage.io import imread\n",
    "from skimage.color import rgb2gray\n",
    "from sklearn.model_selection import GridSearchCV\n",
    "from sklearn.model_selection import train_test_split\n",
    "\n",
    "from sklearn.decomposition import PCA\n",
    "from sklearn.preprocessing import StandardScaler"
   ]
  },
  {
   "cell_type": "code",
   "execution_count": 194,
   "id": "a971fc10",
   "metadata": {},
   "outputs": [],
   "source": [
    "positive_class_path = 'malaria/uab curated/1'\n",
    "negative_class_path = 'malaria/uab curated/0'\n",
    "positive_class_path2 = 'malaria/uah/1/'\n",
    "negative_class_path2 = 'malaria/uah/1/'\n"
   ]
  },
  {
   "cell_type": "markdown",
   "id": "3a6dcd96",
   "metadata": {},
   "source": [
    "### Step 1 : Data Extraction / Preprocessing\n",
    "Combining the data sources to create a singular data source"
   ]
  },
  {
   "cell_type": "code",
   "execution_count": 195,
   "id": "b27e5b28",
   "metadata": {},
   "outputs": [],
   "source": [
    "def file_append(class_path):    \n",
    "    image_array = []    \n",
    "    curr_path = os.path.join(os.getcwd(),class_path)\n",
    "    cnt = 0\n",
    "    file_list = [k for k in os.listdir(curr_path) if '.png' in k]\n",
    "    for x in file_list:\n",
    "        \n",
    "        img_path = os.path.join(curr_path,x)\n",
    "\n",
    "        img = imread(img_path)\n",
    "#         img = rgb2gray(img)\n",
    "        img = resize(img,(60,60,3))     ## Will need to change this resize parameter\n",
    "        img = img.flatten()\n",
    "        image_array.append(img)\n",
    "        \n",
    "    return image_array\n",
    "    \n",
    "\n",
    "pos_imgs_curated = file_append(positive_class_path)\n",
    "pos_imgs_uah = file_append(positive_class_path2)\n",
    "\n",
    "positive_df_curated  = pd.DataFrame(pos_imgs_curated)\n",
    "positive_df_uah = pd.DataFrame(pos_imgs_uah)\n",
    "positive_df = pd.concat([positive_df_curated,positive_df_uah],ignore_index=True)\n",
    "positive_df['y'] = 1\n",
    "\n",
    "neg_imgs_curated = file_append(negative_class_path)\n",
    "neg_df_cur  = pd.DataFrame(neg_imgs_curated)\n",
    "neg_imgs_uah = file_append(negative_class_path2)\n",
    "neg_df_uah  = pd.DataFrame(neg_imgs_uah)\n",
    "neg_df = pd.concat([neg_df_cur,neg_df_uah],ignore_index=True)\n",
    "neg_df['y'] = 0\n",
    "\n",
    "# plt.imshow(np.reshape(pos_imgs[2],(40,40,3)))\n",
    "df = pd.concat([positive_df,neg_df,],ignore_index=True)\n"
   ]
  },
  {
   "cell_type": "markdown",
   "id": "127bc240",
   "metadata": {},
   "source": [
    "### Step 2 : Standardizing the data"
   ]
  },
  {
   "cell_type": "markdown",
   "id": "45d21dd9",
   "metadata": {},
   "source": [
    "### Step 2: Splitting entire dataset into train and test sets"
   ]
  },
  {
   "cell_type": "code",
   "execution_count": 200,
   "id": "ba9902db",
   "metadata": {},
   "outputs": [],
   "source": [
    "X,y = df[df.columns[:-1]],df['y']\n",
    "X = X/255\n",
    "\n",
    "from sklearn.model_selection import KFold\n",
    "kf = KFold(n_splits=7)\n",
    "kf\n",
    "# X_train,X_test,y_train,y_test = train_test_split(X,y,train_size=0.8,random_state=121)\n",
    "\n",
    "# for train_index,test_index in kf.split(X):\n",
    "# #     print(\"TRAIN:\", train_index, \"TEST:\", test_index)\n",
    "#     X_train, X_test = X[train_index], X[test_index]\n",
    "#     y_train, y_test = y[train_index], y[test_index]\n",
    "\n",
    "    \n",
    "#     model = \n",
    "\n",
    "X_train = X\n",
    "y_train = y"
   ]
  },
  {
   "cell_type": "markdown",
   "id": "44cfb194",
   "metadata": {},
   "source": [
    "### Dimensionality reduction"
   ]
  },
  {
   "cell_type": "code",
   "execution_count": 168,
   "id": "0521721c",
   "metadata": {},
   "outputs": [],
   "source": [
    "scaler = StandardScaler()\n",
    "X_train = scaler.fit_transform(X_train)\n",
    "X_test = scaler.transform(X_test)"
   ]
  },
  {
   "cell_type": "code",
   "execution_count": 201,
   "id": "478df31b",
   "metadata": {},
   "outputs": [],
   "source": [
    "pca = PCA(n_components=0.95)\n",
    "pca_data = pca.fit_transform(X_train)\n",
    "exp_var = pca.explained_variance_ratio_"
   ]
  },
  {
   "cell_type": "code",
   "execution_count": 202,
   "id": "956ab1f1",
   "metadata": {},
   "outputs": [
    {
     "data": {
      "text/plain": [
       "336"
      ]
     },
     "execution_count": 202,
     "metadata": {},
     "output_type": "execute_result"
    }
   ],
   "source": [
    "pca_data.shape[1]"
   ]
  },
  {
   "cell_type": "code",
   "execution_count": 203,
   "id": "23983dc3",
   "metadata": {},
   "outputs": [],
   "source": [
    "PC_labels = ['PC_'+ str(x) for x in range(1,pca_data.shape[1])]"
   ]
  },
  {
   "cell_type": "code",
   "execution_count": 204,
   "id": "14a2d894",
   "metadata": {},
   "outputs": [
    {
     "data": {
      "text/plain": [
       "0.9501129902221472"
      ]
     },
     "execution_count": 204,
     "metadata": {},
     "output_type": "execute_result"
    },
    {
     "data": {
      "image/png": "[encoded data removed]",
      "text/plain": [
       "<Figure size 432x288 with 1 Axes>"
      ]
     },
     "metadata": {
      "needs_background": "light"
     },
     "output_type": "display_data"
    }
   ],
   "source": [
    "plt.bar(PC_labels,exp_var[:pca_data.shape[1]-1])\n",
    "sum(exp_var[:pca_data.shape[1]])"
   ]
  },
  {
   "cell_type": "code",
   "execution_count": 205,
   "id": "f1d3eef0",
   "metadata": {},
   "outputs": [
    {
     "data": {
      "text/plain": [
       "(4165, 336)"
      ]
     },
     "execution_count": 205,
     "metadata": {},
     "output_type": "execute_result"
    }
   ],
   "source": [
    "pca_data.shape"
   ]
  },
  {
   "cell_type": "markdown",
   "id": "387a003a",
   "metadata": {},
   "source": [
    "## SVM Modelling"
   ]
  },
  {
   "cell_type": "code",
   "execution_count": 206,
   "id": "2a53027b",
   "metadata": {},
   "outputs": [],
   "source": [
    "from sklearn.svm import SVC\n",
    "from sklearn.metrics import accuracy_score"
   ]
  },
  {
   "cell_type": "code",
   "execution_count": 207,
   "id": "c6c67bbf",
   "metadata": {},
   "outputs": [],
   "source": [
    "# X_test_new = pca.transform(X_test)\n",
    "model = SVC(C=1.5,kernel='rbf')\n"
   ]
  },
  {
   "cell_type": "code",
   "execution_count": 176,
   "id": "c7351c3b",
   "metadata": {},
   "outputs": [
    {
     "name": "stdout",
     "output_type": "stream",
     "text": [
      "Train score: 0.8097238895558223\n",
      "Test score : 0.7298919567827131\n"
     ]
    }
   ],
   "source": [
    "model = SVC(C=1.5,kernel='rbf')\n",
    "model.fit(pca_data,y_train)\n",
    "print(f\"Train score: {model.score(pca_data,y_train)}\")\n",
    "print(f\"Test score : {accuracy_score(y_test,model.predict(X_test_new))}\")\n"
   ]
  },
  {
   "cell_type": "markdown",
   "id": "4c4ff3c7",
   "metadata": {},
   "source": [
    "## SVM modelling with grid search CV"
   ]
  },
  {
   "cell_type": "code",
   "execution_count": 131,
   "id": "c4492010",
   "metadata": {},
   "outputs": [],
   "source": [
    "# parameters = {'kernel':('linear', 'poly', 'rbf', 'sigmoid'), 'C':[0.01,0.1,0.5,1]}\n",
    "# grid_svc = SVC()\n",
    "# clf = GridSearchCV(grid_svc, parameters,verbose=2,n_jobs=-1)\n",
    "\n",
    "\n",
    "parameters = {'kernel':['poly','rbf'], 'C':[0.01,0.05, 0.1,0.5,1,10]}\n",
    "grid_svc = SVC()\n",
    "clf = GridSearchCV(grid_svc, parameters,verbose=2,n_jobs=-1)\n",
    "\n"
   ]
  },
  {
   "cell_type": "code",
   "execution_count": 132,
   "id": "ea052a69",
   "metadata": {},
   "outputs": [
    {
     "name": "stdout",
     "output_type": "stream",
     "text": [
      "Fitting 5 folds for each of 12 candidates, totalling 60 fits\n"
     ]
    },
    {
     "data": {
      "text/plain": [
       "GridSearchCV(estimator=SVC(), n_jobs=-1,\n",
       "             param_grid={'C': [0.01, 0.05, 0.1, 0.5, 1, 10],\n",
       "                         'kernel': ['poly', 'rbf']},\n",
       "             verbose=2)"
      ]
     },
     "execution_count": 132,
     "metadata": {},
     "output_type": "execute_result"
    }
   ],
   "source": [
    "clf.fit(pca_data, y_train)"
   ]
  },
  {
   "cell_type": "code",
   "execution_count": 141,
   "id": "50279888",
   "metadata": {},
   "outputs": [
    {
     "data": {
      "text/plain": [
       "0.8102915951972556"
      ]
     },
     "execution_count": 141,
     "metadata": {},
     "output_type": "execute_result"
    }
   ],
   "source": []
  },
  {
   "cell_type": "code",
   "execution_count": null,
   "id": "dc3138b2",
   "metadata": {},
   "outputs": [],
   "source": []
  }
 ],
 "metadata": {
  "kernelspec": {
   "display_name": "Python 3 (ipykernel)",
   "language": "python",
   "name": "python3"
  },
  "language_info": {
   "codemirror_mode": {
    "name": "ipython",
    "version": 3
   },
   "file_extension": ".py",
   "mimetype": "text/x-python",
   "name": "python",
   "nbconvert_exporter": "python",
   "pygments_lexer": "ipython3",
   "version": "3.9.12"
  }
 },
 "nbformat": 4,
 "nbformat_minor": 5
}

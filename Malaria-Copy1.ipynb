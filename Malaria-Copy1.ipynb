{
 "cells": [
  {
   "cell_type": "code",
   "execution_count": 1,
   "id": "cf484f7a",
   "metadata": {},
   "outputs": [],
   "source": [
    "import os\n",
    "import pandas as pd\n",
    "import numpy as np\n",
    "from matplotlib import image\n",
    "import matplotlib.pyplot as plt\n",
    "from skimage.transform import resize\n",
    "from skimage.io import imread\n",
    "from skimage.color import rgb2gray\n",
    "from sklearn.model_selection import GridSearchCV\n",
    "from sklearn.model_selection import train_test_split\n",
    "\n",
    "from sklearn.decomposition import PCA\n",
    "from sklearn.preprocessing import StandardScaler"
   ]
  },
  {
   "cell_type": "code",
   "execution_count": 2,
   "id": "a971fc10",
   "metadata": {},
   "outputs": [],
   "source": [
    "positive_class_path = 'malaria/uab curated/1'\n",
    "negative_class_path = 'malaria/uab curated/0'\n",
    "positive_class_path2 = 'malaria/uah/1/'\n",
    "negative_class_path2 = 'malaria/uah/1/'\n"
   ]
  },
  {
   "cell_type": "markdown",
   "id": "3a6dcd96",
   "metadata": {},
   "source": [
    "### Step 1 : Data Extraction / Preprocessing\n",
    "Combining the data sources to create a singular data source"
   ]
  },
  {
   "cell_type": "code",
   "execution_count": 7,
   "id": "b27e5b28",
   "metadata": {},
   "outputs": [],
   "source": [
    "def file_append(class_path):    \n",
    "    image_array = []    \n",
    "    curr_path = os.path.join(os.getcwd(),class_path)\n",
    "    cnt = 0\n",
    "    file_list = [k for k in os.listdir(curr_path) if '.png' in k]\n",
    "    for x in file_list:\n",
    "        \n",
    "        img_path = os.path.join(curr_path,x)\n",
    "\n",
    "        img = imread(img_path)\n",
    "#         img = rgb2gray(img)\n",
    "        img = resize(img,(60,60,3))     ## Will need to change this resize parameter\n",
    "        img = img.flatten()\n",
    "        image_array.append(img)\n",
    "        \n",
    "    return image_array\n",
    "    \n",
    "\n",
    "pos_imgs_curated = file_append(positive_class_path)\n",
    "pos_imgs_uah = file_append(positive_class_path2)\n",
    "\n",
    "positive_df_curated  = pd.DataFrame(pos_imgs_curated)\n",
    "positive_df_uah = pd.DataFrame(pos_imgs_uah)\n",
    "positive_df = pd.concat([positive_df_curated,positive_df_uah],ignore_index=True)\n",
    "positive_df['y'] = 1\n",
    "\n",
    "neg_imgs_curated = file_append(negative_class_path)\n",
    "neg_df_cur  = pd.DataFrame(neg_imgs_curated)\n",
    "neg_imgs_uah = file_append(negative_class_path2)\n",
    "neg_df_uah  = pd.DataFrame(neg_imgs_uah)\n",
    "neg_df = pd.concat([neg_df_cur,neg_df_uah],ignore_index=True)\n",
    "neg_df['y'] = 0\n",
    "\n",
    "# plt.imshow(np.reshape(pos_imgs[2],(40,40,3)))\n",
    "df = pd.concat([positive_df,neg_df,],ignore_index=True)\n",
    "df = df.sample(frac=1, random_state=42).reset_index(drop=True)\n"
   ]
  },
  {
   "cell_type": "markdown",
   "id": "127bc240",
   "metadata": {},
   "source": [
    "### Step 2 : Standardizing the data"
   ]
  },
  {
   "cell_type": "markdown",
   "id": "45d21dd9",
   "metadata": {},
   "source": [
    "### Step 2: Splitting entire dataset into train and test sets"
   ]
  },
  {
   "cell_type": "code",
   "execution_count": 12,
   "id": "b255860a",
   "metadata": {},
   "outputs": [],
   "source": [
    "X,y = df[df.columns[:-1]],df['y']\n",
    "X = X/255\n",
    "X_train,X_test,y_train,y_test = train_test_split(X,y,train_size=0.7,random_state=121)\n",
    "\n"
   ]
  },
  {
   "cell_type": "markdown",
   "id": "44cfb194",
   "metadata": {},
   "source": [
    "### Dimensionality reduction"
   ]
  },
  {
   "cell_type": "code",
   "execution_count": 168,
   "id": "0521721c",
   "metadata": {},
   "outputs": [],
   "source": [
    "scaler = StandardScaler()\n",
    "X_train = scaler.fit_transform(X_train)\n",
    "X_test = scaler.transform(X_test)"
   ]
  },
  {
   "cell_type": "code",
   "execution_count": 25,
   "id": "478df31b",
   "metadata": {},
   "outputs": [],
   "source": [
    "pca = PCA(n_components=0.95)\n",
    "pca_data = pca.fit_transform(X_train)\n",
    "exp_var = pca.explained_variance_ratio_"
   ]
  },
  {
   "cell_type": "code",
   "execution_count": 26,
   "id": "956ab1f1",
   "metadata": {},
   "outputs": [
    {
     "data": {
      "text/plain": [
       "319"
      ]
     },
     "execution_count": 26,
     "metadata": {},
     "output_type": "execute_result"
    }
   ],
   "source": [
    "pca_data.shape[1]"
   ]
  },
  {
   "cell_type": "code",
   "execution_count": 27,
   "id": "23983dc3",
   "metadata": {},
   "outputs": [],
   "source": [
    "PC_labels = ['PC_'+ str(x) for x in range(1,pca_data.shape[1])]"
   ]
  },
  {
   "cell_type": "code",
   "execution_count": 28,
   "id": "14a2d894",
   "metadata": {},
   "outputs": [
    {
     "data": {
      "text/plain": [
       "0.9500136779418267"
      ]
     },
     "execution_count": 28,
     "metadata": {},
     "output_type": "execute_result"
    },
    {
     "data": {
      "image/png": "[encoded data removed]",
      "text/plain": [
       "<Figure size 432x288 with 1 Axes>"
      ]
     },
     "metadata": {
      "needs_background": "light"
     },
     "output_type": "display_data"
    }
   ],
   "source": [
    "plt.bar(PC_labels,exp_var[:pca_data.shape[1]-1])\n",
    "sum(exp_var[:pca_data.shape[1]])"
   ]
  },
  {
   "cell_type": "code",
   "execution_count": 29,
   "id": "f1d3eef0",
   "metadata": {},
   "outputs": [
    {
     "data": {
      "text/plain": [
       "(2915, 319)"
      ]
     },
     "execution_count": 29,
     "metadata": {},
     "output_type": "execute_result"
    }
   ],
   "source": [
    "pca_data.shape"
   ]
  },
  {
   "cell_type": "markdown",
   "id": "387a003a",
   "metadata": {},
   "source": [
    "## SVM Modelling"
   ]
  },
  {
   "cell_type": "code",
   "execution_count": 30,
   "id": "2a53027b",
   "metadata": {},
   "outputs": [],
   "source": [
    "from sklearn.svm import SVC\n",
    "from sklearn.metrics import accuracy_score"
   ]
  },
  {
   "cell_type": "code",
   "execution_count": 33,
   "id": "c6c67bbf",
   "metadata": {},
   "outputs": [],
   "source": [
    "X_test_new = pca.transform(X_test)\n",
    "model = SVC(C=1,kernel='rbf')\n"
   ]
  },
  {
   "cell_type": "code",
   "execution_count": 34,
   "id": "c7351c3b",
   "metadata": {},
   "outputs": [
    {
     "name": "stdout",
     "output_type": "stream",
     "text": [
      "Train score: 0.8085763293310463\n",
      "Test score : 0.7032\n"
     ]
    }
   ],
   "source": [
    "model.fit(pca_data,y_train)\n",
    "print(f\"Train score: {model.score(pca_data,y_train)}\")\n",
    "print(f\"Test score : {accuracy_score(y_test,model.predict(X_test_new))}\")\n"
   ]
  },
  {
   "cell_type": "markdown",
   "id": "4c4ff3c7",
   "metadata": {},
   "source": [
    "## SVM modelling with grid search CV"
   ]
  },
  {
   "cell_type": "code",
   "execution_count": 35,
   "id": "c4492010",
   "metadata": {},
   "outputs": [],
   "source": [
    "# parameters = {'kernel':('linear', 'poly', 'rbf', 'sigmoid'), 'C':[0.01,0.1,0.5,1]}\n",
    "# grid_svc = SVC()\n",
    "# clf = GridSearchCV(grid_svc, parameters,verbose=2,n_jobs=-1)\n",
    "\n",
    "\n",
    "parameters = {'kernel':['poly','rbf'], 'C':[0.01,0.05, 0.1,0.5,1,10]}\n",
    "grid_svc = SVC()\n",
    "clf = GridSearchCV(grid_svc, parameters,verbose=2,n_jobs=-1)\n",
    "\n"
   ]
  },
  {
   "cell_type": "code",
   "execution_count": 36,
   "id": "ea052a69",
   "metadata": {},
   "outputs": [
    {
     "name": "stdout",
     "output_type": "stream",
     "text": [
      "Fitting 5 folds for each of 12 candidates, totalling 60 fits\n"
     ]
    },
    {
     "data": {
      "text/plain": [
       "GridSearchCV(estimator=SVC(), n_jobs=-1,\n",
       "             param_grid={'C': [0.01, 0.05, 0.1, 0.5, 1, 10],\n",
       "                         'kernel': ['poly', 'rbf']},\n",
       "             verbose=2)"
      ]
     },
     "execution_count": 36,
     "metadata": {},
     "output_type": "execute_result"
    }
   ],
   "source": [
    "clf.fit(pca_data, y_train)"
   ]
  },
  {
   "cell_type": "code",
   "execution_count": 61,
   "id": "50279888",
   "metadata": {},
   "outputs": [
    {
     "data": {
      "text/plain": [
       "{'C': 1, 'kernel': 'rbf'}"
      ]
     },
     "execution_count": 61,
     "metadata": {},
     "output_type": "execute_result"
    }
   ],
   "source": [
    "clf.best_params_"
   ]
  },
  {
   "cell_type": "markdown",
   "id": "fafc7fea",
   "metadata": {},
   "source": [
    "### K fold cross validation"
   ]
  },
  {
   "cell_type": "code",
   "execution_count": 46,
   "id": "81354d47",
   "metadata": {},
   "outputs": [],
   "source": [
    "X,y = df[df.columns[:-1]],df['y']\n",
    "X = X/255"
   ]
  },
  {
   "cell_type": "code",
   "execution_count": 47,
   "id": "78de71fc",
   "metadata": {},
   "outputs": [],
   "source": [
    "X_train,X_test,y_train,y_test = train_test_split(X,y,train_size=0.7,random_state=121)"
   ]
  },
  {
   "cell_type": "code",
   "execution_count": 48,
   "id": "50d8cad8",
   "metadata": {},
   "outputs": [],
   "source": [
    "pca = PCA(n_components=0.90)\n",
    "pca_data = pca.fit_transform(X_train)\n",
    "\n",
    "exp_var = pca.explained_variance_ratio_"
   ]
  },
  {
   "cell_type": "code",
   "execution_count": 49,
   "id": "cc0347e2",
   "metadata": {},
   "outputs": [
    {
     "name": "stdout",
     "output_type": "stream",
     "text": [
      "(2915, 153)\n",
      "(4165,)\n"
     ]
    }
   ],
   "source": [
    "print(pca_data.shape)\n",
    "print(y.shape)"
   ]
  },
  {
   "cell_type": "code",
   "execution_count": 59,
   "id": "b9c2e331",
   "metadata": {},
   "outputs": [
    {
     "name": "stdout",
     "output_type": "stream",
     "text": [
      "Cross Validation accuracy scores: [0.71575342 0.70547945 0.73972603 0.73972603 0.72260274 0.75945017\n",
      " 0.74226804 0.67697595 0.71134021 0.71821306]\n",
      "Cross Validation accuracy: 0.723 +/- 0.022\n"
     ]
    }
   ],
   "source": [
    "from sklearn.model_selection import cross_val_score\n",
    "from sklearn.pipeline import make_pipeline\n",
    "from sklearn.svm import SVC\n",
    "from sklearn.ensemble import RandomForestClassifier\n",
    "#\n",
    "# Create an instance of Pipeline\n",
    "#\n",
    "pipeline = make_pipeline(SVC(C=1.5))\n",
    "#\n",
    "# Pass instance of pipeline and training and test data set\n",
    "# cv=10 represents the StratifiedKFold with 10 folds\n",
    "#\n",
    "scores = cross_val_score(pipeline, X=pca_data, y=y_train, cv=10, n_jobs=1)\n",
    " \n",
    "print('Cross Validation accuracy scores: %s' % scores)\n",
    " \n",
    "print('Cross Validation accuracy: %.3f +/- %.3f' % (np.mean(scores),np.std(scores)))\n"
   ]
  },
  {
   "cell_type": "code",
   "execution_count": 60,
   "id": "e0ff31f2",
   "metadata": {},
   "outputs": [
    {
     "name": "stdout",
     "output_type": "stream",
     "text": [
      "Cross Validation accuracy scores: [0.70890411 0.69863014 0.72945205 0.73630137 0.70890411 0.73883162\n",
      " 0.73195876 0.68041237 0.71477663 0.71821306]\n",
      "Cross Validation accuracy: 0.717 +/- 0.017\n"
     ]
    }
   ],
   "source": [
    "from sklearn.model_selection import cross_val_score\n",
    "from sklearn.pipeline import make_pipeline\n",
    "from sklearn.svm import SVC\n",
    "from sklearn.ensemble import RandomForestClassifier\n",
    "#\n",
    "# Create an instance of Pipeline\n",
    "#\n",
    "pipeline = make_pipeline(SVC(C=2))\n",
    "#\n",
    "# Pass instance of pipeline and training and test data set\n",
    "# cv=10 represents the StratifiedKFold with 10 folds\n",
    "#\n",
    "scores = cross_val_score(pipeline, X=pca_data, y=y_train, cv=10, n_jobs=1)\n",
    " \n",
    "print('Cross Validation accuracy scores: %s' % scores)\n",
    " \n",
    "print('Cross Validation accuracy: %.3f +/- %.3f' % (np.mean(scores),np.std(scores)))\n"
   ]
  },
  {
   "cell_type": "code",
   "execution_count": null,
   "id": "91fbb1b7",
   "metadata": {},
   "outputs": [],
   "source": []
  }
 ],
 "metadata": {
  "kernelspec": {
   "display_name": "Python 3 (ipykernel)",
   "language": "python",
   "name": "python3"
  },
  "language_info": {
   "codemirror_mode": {
    "name": "ipython",
    "version": 3
   },
   "file_extension": ".py",
   "mimetype": "text/x-python",
   "name": "python",
   "nbconvert_exporter": "python",
   "pygments_lexer": "ipython3",
   "version": "3.9.12"
  }
 },
 "nbformat": 4,
 "nbformat_minor": 5
}
